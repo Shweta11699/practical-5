{
  "nbformat": 4,
  "nbformat_minor": 0,
  "metadata": {
    "colab": {
      "name": "practical5.ipynb",
      "provenance": []
    },
    "kernelspec": {
      "name": "python3",
      "display_name": "Python 3"
    },
    "language_info": {
      "name": "python"
    }
  },
  "cells": [
    {
      "cell_type": "markdown",
      "source": [
        "program to create , append, and remove lists in python"
      ],
      "metadata": {
        "id": "rbQOS30P8Kad"
      }
    },
    {
      "cell_type": "code",
      "source": [
        "pets = ['cat', 'dog', 'rat', 'pig', 'tiger']\n",
        "snakes=['python','anaconda','fish','cobra','mamba']\n",
        "print(\"Pets are :\",pets)\n",
        "print(\"Snakes are :\",snakes)\n",
        "animals=pets+snakes\n",
        "print(\"Animals are :\",animals)\n",
        "snakes.remove(\"fish\")\n",
        "print(\"updated Snakes are :\",snakes) "
      ],
      "metadata": {
        "colab": {
          "base_uri": "https://localhost:8080/"
        },
        "id": "KKT2G5V18KwM",
        "outputId": "58aae04f-2cbd-4feb-ef1c-0e8cf00a54c2"
      },
      "execution_count": 1,
      "outputs": [
        {
          "output_type": "stream",
          "name": "stdout",
          "text": [
            "Pets are : ['cat', 'dog', 'rat', 'pig', 'tiger']\n",
            "Snakes are : ['python', 'anaconda', 'fish', 'cobra', 'mamba']\n",
            "Animals are : ['cat', 'dog', 'rat', 'pig', 'tiger', 'python', 'anaconda', 'fish', 'cobra', 'mamba']\n",
            "updated Snakes are : ['python', 'anaconda', 'cobra', 'mamba']\n"
          ]
        }
      ]
    }
  ]
}